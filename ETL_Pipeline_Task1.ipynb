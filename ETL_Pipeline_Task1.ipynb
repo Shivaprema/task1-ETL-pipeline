{
  "nbformat": 4,
  "nbformat_minor": 0,
  "metadata": {
    "colab": {
      "provenance": []
    },
    "kernelspec": {
      "name": "python3",
      "display_name": "Python 3"
    },
    "language_info": {
      "name": "python"
    }
  },
  "cells": [
    {
      "cell_type": "code",
      "source": [
        "# Task 1: ETL Pipeline using Pandas and Scikit-Learn\n",
        "\n",
        "#This notebook performs a basic ETL (Extract, Transform, Load) process on customer data. It includes:\n",
        "# Data loading\n",
        "# Preprocessing (missing values, encoding)\n",
        "# Feature scaling\n",
        "# Data splitting\n",
        "# Saving processed datasets\n",
        "\n",
        "\n",
        "import pandas as pd\n",
        "from sklearn.preprocessing import LabelEncoder, StandardScaler\n",
        "from sklearn.model_selection import train_test_split\n",
        "\n",
        "# Load the data\n",
        "data = pd.read_csv('/content/customers.csv')\n",
        "print(\"Original Data:\\n\", data)\n",
        "\n",
        "# Fill missing values\n",
        "data = data.fillna(method='ffill')\n",
        "\n",
        "# Encode categorical variables\n",
        "le_gender = LabelEncoder()\n",
        "le_country = LabelEncoder()\n",
        "le_churn = LabelEncoder()\n",
        "\n",
        "data['Gender'] = le_gender.fit_transform(data['Gender'])\n",
        "data['Country'] = le_country.fit_transform(data['Country'])\n",
        "data['Churn'] = le_churn.fit_transform(data['Churn'])\n",
        "\n",
        "# Scale numeric columns\n",
        "scaler = StandardScaler()\n",
        "data[['Age', 'Salary']] = scaler.fit_transform(data[['Age', 'Salary']])\n",
        "\n",
        "# Split the dataset\n",
        "X = data.drop(['Churn', 'Name'], axis=1)\n",
        "y = data['Churn']\n",
        "\n",
        "X_train, X_test, y_train, y_test = train_test_split(X, y, test_size=0.2, random_state=42)\n",
        "\n",
        "# Save output files in Colab\n",
        "X_train.to_csv('X_train.csv', index=False)\n",
        "X_test.to_csv('X_test.csv', index=False)\n",
        "y_train.to_csv('y_train.csv', index=False)\n",
        "y_test.to_csv('y_test.csv', index=False)\n",
        "\n",
        "print(\"\\n Done. Files saved in Colab session:\")\n",
        "print(\"- X_train.csv\\n- X_test.csv\\n- y_train.csv\\n- y_test.csv\")"
      ],
      "metadata": {
        "colab": {
          "base_uri": "https://localhost:8080/"
        },
        "id": "PhbjOukk8029",
        "outputId": "70e8a28a-a525-49a6-87af-3ad468cc2a8f"
      },
      "execution_count": 2,
      "outputs": [
        {
          "output_type": "stream",
          "name": "stdout",
          "text": [
            "Original Data:\n",
            "       Name  Gender   Age Country   Salary Churn\n",
            "0    Alice  Female  25.0   India  40000.0    No\n",
            "1      Bob    Male  30.0     USA  50000.0   Yes\n",
            "2  Charlie    Male   NaN      UK  55000.0    No\n",
            "3    Diana  Female  28.0   India      NaN   Yes\n",
            "4      Eva  Female  35.0     USA  60000.0    No\n",
            "\n",
            " Done. Files saved in Colab session:\n",
            "- X_train.csv\n",
            "- X_test.csv\n",
            "- y_train.csv\n",
            "- y_test.csv\n"
          ]
        },
        {
          "output_type": "stream",
          "name": "stderr",
          "text": [
            "<ipython-input-2-7a43ee53ea87>:20: FutureWarning: DataFrame.fillna with 'method' is deprecated and will raise in a future version. Use obj.ffill() or obj.bfill() instead.\n",
            "  data = data.fillna(method='ffill')\n"
          ]
        }
      ]
    }
  ]
}